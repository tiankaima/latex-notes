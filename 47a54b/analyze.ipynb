{
 "cells": [
  {
   "cell_type": "code",
   "execution_count": 1,
   "metadata": {},
   "outputs": [],
   "source": [
    "import numpy as np"
   ]
  },
  {
   "cell_type": "code",
   "execution_count": 2,
   "metadata": {},
   "outputs": [],
   "source": [
    "def transform(a,b):\n",
    "    return a + b/60\n",
    "def transform2(x):\n",
    "    return (x//1,np.round((x-x//1)*60))"
   ]
  },
  {
   "cell_type": "code",
   "execution_count": 3,
   "metadata": {},
   "outputs": [],
   "source": [
    "k1_theta1 = np.array([transform(211,8),transform(334,24),transform(95,37)])\n",
    "k1_theta2 = np.array([transform(31,4),transform(154,23),transform(277,36)])\n",
    "k1_theta1p = np.array([transform(92,8),transform(213,20),transform(334,2)])\n",
    "k1_theta2p = np.array([transform(272,10),transform(33,24),transform(153,57)])"
   ]
  },
  {
   "cell_type": "code",
   "execution_count": 4,
   "metadata": {},
   "outputs": [],
   "source": [
    "k2_theta1 = np.array([transform(280,36),transform(137,30),transform(86,31)])\n",
    "k2_theta2 = np.array([transform(100,40),transform(317,30),transform(266,30)])\n",
    "k2_theta1p = np.array([transform(219,0),transform(75,4),transform(24,42)])\n",
    "k2_theta2p = np.array([transform(39,1),transform(255,10),transform(204,41)])"
   ]
  },
  {
   "cell_type": "code",
   "execution_count": 5,
   "metadata": {},
   "outputs": [
    {
     "name": "stdout",
     "output_type": "stream",
     "text": [
      "[180.06666667 180.01666667 181.98333333]\n",
      "[180.03333333 179.93333333 180.08333333]\n",
      "[179.93333333 180.         179.98333333]\n",
      "[179.98333333 180.1        179.98333333]\n",
      "[119.         121.06666667 238.41666667]\n",
      "[241.1        120.98333333 123.65      ]\n",
      "[61.6        62.43333333 61.81666667]\n",
      "[61.65       62.33333333 61.81666667]\n"
     ]
    }
   ],
   "source": [
    "print(np.abs(k1_theta1 - k1_theta2))\n",
    "print(np.abs(k1_theta1p - k1_theta2p))\n",
    "print(np.abs(k2_theta1 - k2_theta2))\n",
    "print(np.abs(k2_theta1p - k2_theta2p))\n",
    "\n",
    "print(np.abs(k1_theta1p - k1_theta1))\n",
    "print(np.abs(k1_theta2p - k1_theta2))\n",
    "print(np.abs(k2_theta1p - k2_theta1))\n",
    "print(np.abs(k2_theta2p - k2_theta2))"
   ]
  },
  {
   "cell_type": "code",
   "execution_count": 29,
   "metadata": {},
   "outputs": [],
   "source": [
    "test_data = np.array([np.abs(k1_theta1 - k1_theta2),\n",
    "np.abs(k1_theta1p - k1_theta2p),\n",
    "np.abs(k2_theta1 - k2_theta2),\n",
    "np.abs(k2_theta1p - k2_theta2p)])"
   ]
  },
  {
   "cell_type": "code",
   "execution_count": 15,
   "metadata": {},
   "outputs": [],
   "source": [
    "tmp1 = np.abs(k1_theta1p - k1_theta1)\n",
    "tmp1[2] = 360 - tmp1[2]\n",
    "tmp2 = np.abs(k1_theta2p - k1_theta2)\n",
    "tmp2[0] = 360 - tmp2[0]\n",
    "test_data = (tmp1 + tmp2)/2"
   ]
  },
  {
   "cell_type": "code",
   "execution_count": 22,
   "metadata": {},
   "outputs": [],
   "source": [
    "tmp1 = np.abs(k2_theta1p - k2_theta1)\n",
    "# tmp1[2] = 360 - tmp1[2]\n",
    "tmp2 = np.abs(k2_theta2p - k2_theta2)\n",
    "# tmp2[0] = 360 - tmp2[0]\n",
    "test_data = (tmp1 + tmp2)/2"
   ]
  },
  {
   "cell_type": "code",
   "execution_count": 23,
   "metadata": {},
   "outputs": [
    {
     "name": "stdout",
     "output_type": "stream",
     "text": [
      "[61.625      62.38333333 61.81666667]\n"
     ]
    }
   ],
   "source": [
    "print(test_data)"
   ]
  },
  {
   "cell_type": "code",
   "execution_count": 24,
   "metadata": {},
   "outputs": [
    {
     "data": {
      "text/plain": [
       "0.3943172721440313"
      ]
     },
     "execution_count": 24,
     "metadata": {},
     "output_type": "execute_result"
    }
   ],
   "source": [
    "np.std(test_data,ddof=1)"
   ]
  },
  {
   "cell_type": "code",
   "execution_count": 9,
   "metadata": {},
   "outputs": [
    {
     "data": {
      "text/plain": [
       "(1.0, 50.0)"
      ]
     },
     "execution_count": 9,
     "metadata": {},
     "output_type": "execute_result"
    }
   ],
   "source": [
    "transform2(np.std(test_data,ddof=1))"
   ]
  },
  {
   "cell_type": "code",
   "execution_count": 13,
   "metadata": {},
   "outputs": [
    {
     "data": {
      "text/plain": [
       "61.94166666666667"
      ]
     },
     "execution_count": 13,
     "metadata": {},
     "output_type": "execute_result"
    }
   ],
   "source": [
    "np.average(test_data,axis=0)"
   ]
  },
  {
   "cell_type": "code",
   "execution_count": 12,
   "metadata": {},
   "outputs": [],
   "source": [
    "import math"
   ]
  },
  {
   "cell_type": "code",
   "execution_count": 14,
   "metadata": {},
   "outputs": [
    {
     "data": {
      "text/plain": [
       "1.6981651449596977"
      ]
     },
     "execution_count": 14,
     "metadata": {},
     "output_type": "execute_result"
    }
   ],
   "source": [
    "math.sin((62 + 60)/360*math.pi) / math.sin((62)/360*math.pi)"
   ]
  },
  {
   "cell_type": "code",
   "execution_count": 25,
   "metadata": {},
   "outputs": [
    {
     "data": {
      "text/plain": [
       "0.2276591832184754"
      ]
     },
     "execution_count": 25,
     "metadata": {},
     "output_type": "execute_result"
    }
   ],
   "source": [
    "0.3943172721440313/math.sqrt(3)"
   ]
  },
  {
   "cell_type": "code",
   "execution_count": 19,
   "metadata": {},
   "outputs": [
    {
     "data": {
      "text/plain": [
       "0.009622504486493762"
      ]
     },
     "execution_count": 19,
     "metadata": {},
     "output_type": "execute_result"
    }
   ],
   "source": [
    "1/60/math.sqrt(3)"
   ]
  },
  {
   "cell_type": "code",
   "execution_count": 26,
   "metadata": {},
   "outputs": [
    {
     "data": {
      "text/plain": [
       "0.9761078712929222"
      ]
     },
     "execution_count": 26,
     "metadata": {},
     "output_type": "execute_result"
    }
   ],
   "source": [
    "math.sqrt((4.3*0.227)**2 + (1.96 * 0.002)**2)"
   ]
  },
  {
   "cell_type": "code",
   "execution_count": 21,
   "metadata": {},
   "outputs": [
    {
     "data": {
      "text/plain": [
       "27.0"
      ]
     },
     "execution_count": 21,
     "metadata": {},
     "output_type": "execute_result"
    }
   ],
   "source": [
    "0.45 * 60"
   ]
  },
  {
   "cell_type": "code",
   "execution_count": 27,
   "metadata": {},
   "outputs": [
    {
     "data": {
      "text/plain": [
       "0.005773199999999999"
      ]
     },
     "execution_count": 27,
     "metadata": {},
     "output_type": "execute_result"
    }
   ],
   "source": [
    "1.698 * 0.0034"
   ]
  },
  {
   "cell_type": "code",
   "execution_count": null,
   "metadata": {},
   "outputs": [],
   "source": []
  }
 ],
 "metadata": {
  "interpreter": {
   "hash": "2be5faf79681da6f2a61fdfdd5405d65d042280f7fba6178067603e3a2925119"
  },
  "kernelspec": {
   "display_name": "Python 3.10.2 64-bit",
   "language": "python",
   "name": "python3"
  },
  "language_info": {
   "codemirror_mode": {
    "name": "ipython",
    "version": 3
   },
   "file_extension": ".py",
   "mimetype": "text/x-python",
   "name": "python",
   "nbconvert_exporter": "python",
   "pygments_lexer": "ipython3",
   "version": "3.10.2"
  },
  "orig_nbformat": 4
 },
 "nbformat": 4,
 "nbformat_minor": 2
}
